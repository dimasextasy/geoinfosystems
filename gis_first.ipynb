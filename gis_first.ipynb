{
 "cells": [
  {
   "cell_type": "code",
   "execution_count": 65,
   "metadata": {},
   "outputs": [],
   "source": [
    "import numpy as np\n",
    "import osmnx as ox\n",
    "from osgeo import osr, ogr\n",
    "import warnings\n",
    "\n",
    "warnings.filterwarnings('ignore')\n",
    "\n",
    "place_name = 'Пермь Индустриальный район'"
   ]
  },
  {
   "cell_type": "code",
   "execution_count": 66,
   "metadata": {},
   "outputs": [],
   "source": [
    "geo_df = ox.footprints_from_place(place_name)\n",
    "\n",
    "geo_df = geo_df[['building', 'building:levels', 'geometry']]\n",
    "geo_df = geo_df.reset_index(drop=True)\n",
    "\n",
    "geo_df = calculate_region_data(geo_df)"
   ]
  },
  {
   "cell_type": "code",
   "execution_count": 67,
   "metadata": {},
   "outputs": [],
   "source": [
    "living_buildings_types = ['apartments', 'bungalow', 'cabin', 'detached', 'dormitory', 'farm', 'ger', 'hotel',\n",
    "                           'house', 'houseboat', 'residential', 'semidetached_house', 'static_caravan', 'terrace']\n",
    "real_live_buildings = geo_df.loc[geo_df.building.isin(living_buildings_types)]\n",
    "living_building_dict = dict(real_live_buildings.building.value_counts())"
   ]
  },
  {
   "cell_type": "code",
   "execution_count": 68,
   "metadata": {},
   "outputs": [
    {
     "name": "stdout",
     "output_type": "stream",
     "text": [
      "Реальных людей посчитано 127594 человек\n",
      "Предполагаемых людей посчитано 33033 человек\n",
      "В Пермь Индустриальный район проживает 160628 человек\n",
      "Разновидности жилых зданий в Пермь Индустриальный район: {'apartments': 641, 'house': 57, 'dormitory': 6, 'residential': 6, 'hotel': 2, 'detached': 1}, их количество 713\n",
      "Предполагаемых жилых зданий в Пермь Индустриальный район: 482\n"
     ]
    }
   ],
   "source": [
    "population, fake_houses_count = calculate_people_count(geo_df, living_buildings_types)\n",
    "print(f\"В {place_name} проживает {round(population)} человек\\n\"\n",
    "      f\"Разновидности жилых зданий в {place_name}: {living_building_dict}, их количество {sum(living_building_dict.values())}\\n\"\n",
    "      f\"Предполагаемых жилых зданий в {place_name}: {fake_houses_count}\")"
   ]
  },
  {
   "cell_type": "code",
   "execution_count": 25,
   "metadata": {},
   "outputs": [],
   "source": [
    "def calculate_region_data(geo_df):\n",
    "    geo_df[\"area\"], geo_df[\"edges_count\"] = None, None\n",
    "    geo_df.loc[geo_df['building:levels'].isnull(), 'building:levels'] = 1\n",
    "    for index, element in geo_df.iterrows():\n",
    "        geo_df[\"area\"][index] = get_area_from_polygon(element.geometry)\n",
    "        geo_df[\"edges_count\"][index] = get_edges_count(element.geometry)\n",
    "    geo_df = geo_df.drop(['geometry'], axis=1)\n",
    "    geo_df = geo_df.reset_index(drop=True)\n",
    "    geo_df.edges_count = geo_df.edges_count.astype('float')\n",
    "    geo_df = geo_df[np.isfinite(geo_df['edges_count'])]\n",
    "    geo_df = geo_df.fillna(0)\n",
    "    return geo_df\n",
    "\n",
    "def get_edges_count(geometry_obj):\n",
    "    if geometry_obj.type == 'MultiPolygon':\n",
    "        count = 0\n",
    "        for polygon in geometry_obj:\n",
    "            count += polygon.exterior.coords.__len__()\n",
    "    elif geometry_obj.type == 'Polygon':\n",
    "        count = geometry_obj.exterior.coords.__len__()\n",
    "    return count"
   ]
  },
  {
   "cell_type": "code",
   "execution_count": 7,
   "metadata": {},
   "outputs": [],
   "source": [
    "def get_area_from_polygon(geometry_obj):\n",
    "    if geometry_obj.type == 'MultiPolygon':\n",
    "        area = 0\n",
    "        for polygon in geometry_obj:\n",
    "            area += __calculate_polygon_area(polygon)\n",
    "    elif geometry_obj.type == 'Polygon':\n",
    "        area = __calculate_polygon_area(geometry_obj)\n",
    "    return area\n",
    "\n",
    "def __calculate_polygon_area(polygon_obj):\n",
    "    json = {\n",
    "        'type': 'Polygon',\n",
    "        'coordinates': [list(polygon_obj.exterior.coords)]\n",
    "    }\n",
    "\n",
    "    source = osr.SpatialReference()\n",
    "    source.ImportFromEPSG(4326)\n",
    "    target = osr.SpatialReference()\n",
    "    target.ImportFromEPSG(5243)\n",
    "\n",
    "    transform = osr.CoordinateTransformation(source, target)\n",
    "    poly = ogr.CreateGeometryFromJson(str(json).replace('(', '[').replace(')', ']'))\n",
    "    poly.Transform(transform)\n",
    "    area = poly.GetArea()\n",
    "    return area"
   ]
  },
  {
   "cell_type": "code",
   "execution_count": 55,
   "metadata": {},
   "outputs": [],
   "source": [
    "def calculate_people_count(geo_df, living_buildings_types):\n",
    "    fake_houses = 0\n",
    "    real_people_count = 0\n",
    "    fake_people_count = 0\n",
    "    for index, row in geo_df.iterrows():\n",
    "        if row['building'] in living_buildings_types:\n",
    "            real_people_count += row.area * int(row['building:levels']) / 1.5 / 22\n",
    "        elif int(row['building:levels']) > 1 and row['building'] == 'yes' and row['edges_count'] < 13:\n",
    "            fake_people_count += row.area * int(row['building:levels']) / 3 / 22\n",
    "            fake_houses += 1\n",
    "    print('Реальных людей посчитано {} человек'.format(round(real_people_count)))\n",
    "    print('Предполагаемых людей посчитано {} человек'.format(round(fake_people_count)))\n",
    "    \n",
    "    return real_people_count + fake_people_count , fake_houses"
   ]
  }
 ],
 "metadata": {
  "kernelspec": {
   "display_name": "Python (ox)",
   "language": "python",
   "name": "ox"
  },
  "language_info": {
   "codemirror_mode": {
    "name": "ipython",
    "version": 3
   },
   "file_extension": ".py",
   "mimetype": "text/x-python",
   "name": "python",
   "nbconvert_exporter": "python",
   "pygments_lexer": "ipython3",
   "version": "3.8.1"
  }
 },
 "nbformat": 4,
 "nbformat_minor": 4
}
